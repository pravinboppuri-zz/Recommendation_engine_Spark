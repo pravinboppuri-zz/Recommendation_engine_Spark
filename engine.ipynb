{
 "cells": [
  {
   "cell_type": "code",
   "execution_count": 180,
   "metadata": {},
   "outputs": [],
   "source": [
    "from pyspark.sql import SparkSession\n",
    "    \n",
    "spark = SparkSession.builder.appName('recommender').getOrCreate()\n",
    "from pyspark.ml.recommendation import ALS\n",
    "from pyspark.ml.evaluation import RegressionEvaluator\n",
    "import pandas as pd\n",
    "from pyspark.sql.functions import struct, collect_list, explode\n",
    "import json\n",
    "from pyspark.sql.types import StructType\n",
    "from pyspark.sql.types import StructField\n",
    "from pyspark.sql.types import StringType\n",
    "from pyspark.sql.types import FloatType"
   ]
  },
  {
   "cell_type": "code",
   "execution_count": 181,
   "metadata": {},
   "outputs": [],
   "source": [
    "data_cols = ['userid','movieid','rating','timestamp']\n",
    "item_cols = ['movieid','movietitle','release date',\n",
    "'video release date','IMDb URL','unknown','Action',\n",
    "'Adventure','Animation','Childrens','Comedy','Crime',\n",
    "'Documentary','Drama','Fantasy','Film-Noir','Horror',\n",
    "'Musical','Mystery','Romance ','Sci-Fi','Thriller',\n",
    "'War' ,'Western']\n",
    "user_cols = ['userid','age','gender','occupation',\n",
    "'zip code']"
   ]
  },
  {
   "cell_type": "code",
   "execution_count": 182,
   "metadata": {},
   "outputs": [],
   "source": [
    "users = pd.read_csv('/home/bella/ml-100k/u.user', sep='|',\n",
    "names=user_cols, encoding='latin-1')"
   ]
  },
  {
   "cell_type": "code",
   "execution_count": 183,
   "metadata": {},
   "outputs": [],
   "source": [
    "item = pd.read_csv('/home/bella/ml-100k/u.item', sep='|',\n",
    "names=item_cols, encoding='latin-1')\n",
    "data = pd.read_csv('/home/bella/ml-100k/u.data', sep='\\t',\n",
    "names=data_cols, encoding='latin-1')"
   ]
  },
  {
   "cell_type": "code",
   "execution_count": 185,
   "metadata": {},
   "outputs": [],
   "source": [
    "dataset = pd.merge(pd.merge(item, data),users)\n",
    "df = dataset[['userid','movieid','movietitle','rating','timestamp']]\n",
    "dataframe =spark.createDataFrame(df)\n",
    "#ratings = dataframe.rdd\n"
   ]
  },
  {
   "cell_type": "code",
   "execution_count": 186,
   "metadata": {},
   "outputs": [
    {
     "name": "stdout",
     "output_type": "stream",
     "text": [
      "root\n",
      " |-- userid: long (nullable = true)\n",
      " |-- movieid: long (nullable = true)\n",
      " |-- movietitle: string (nullable = true)\n",
      " |-- rating: long (nullable = true)\n",
      " |-- timestamp: long (nullable = true)\n",
      "\n"
     ]
    }
   ],
   "source": [
    "dataframe.printSchema()"
   ]
  },
  {
   "cell_type": "code",
   "execution_count": 187,
   "metadata": {},
   "outputs": [
    {
     "name": "stdout",
     "output_type": "stream",
     "text": [
      "+------+-------+--------------------+------+---------+\n",
      "|userid|movieid|          movietitle|rating|timestamp|\n",
      "+------+-------+--------------------+------+---------+\n",
      "|   308|      1|    Toy Story (1995)|     4|887736532|\n",
      "|   308|      4|   Get Shorty (1995)|     5|887737890|\n",
      "|   308|      5|      Copycat (1995)|     4|887739608|\n",
      "|   308|      7|Twelve Monkeys (1...|     4|887738847|\n",
      "|   308|      8|         Babe (1995)|     5|887736696|\n",
      "|   308|      9|Dead Man Walking ...|     4|887737194|\n",
      "|   308|     11|Seven (Se7en) (1995)|     5|887737837|\n",
      "|   308|     12|Usual Suspects, T...|     5|887737243|\n",
      "|   308|     15|Mr. Holland's Opu...|     3|887739426|\n",
      "|   308|     17|From Dusk Till Da...|     4|887739056|\n",
      "|   308|     19|Antonia's Line (1...|     3|887737383|\n",
      "|   308|     21|Muppet Treasure I...|     3|887740729|\n",
      "|   308|     22|   Braveheart (1995)|     4|887737647|\n",
      "|   308|     23|  Taxi Driver (1976)|     5|887737293|\n",
      "|   308|     24|Rumble in the Bro...|     4|887738057|\n",
      "|   308|     25|Birdcage, The (1996)|     4|887740649|\n",
      "|   308|     28|    Apollo 13 (1995)|     3|887737036|\n",
      "|   308|     30|Belle de jour (1967)|     4|887738933|\n",
      "|   308|     31| Crimson Tide (1995)|     3|887739472|\n",
      "|   308|     32|        Crumb (1994)|     5|887737432|\n",
      "+------+-------+--------------------+------+---------+\n",
      "only showing top 20 rows\n",
      "\n"
     ]
    }
   ],
   "source": [
    "dataframe.show()"
   ]
  },
  {
   "cell_type": "code",
   "execution_count": 188,
   "metadata": {},
   "outputs": [
    {
     "name": "stdout",
     "output_type": "stream",
     "text": [
      "+-------+----------------+-----------------+--------------------+------------------+-----------------+\n",
      "|summary|          userid|          movieid|          movietitle|            rating|        timestamp|\n",
      "+-------+----------------+-----------------+--------------------+------------------+-----------------+\n",
      "|  count|          100000|           100000|              100000|            100000|           100000|\n",
      "|   mean|       462.48475|        425.53013|                null|           3.52986|8.8352885148862E8|\n",
      "| stddev|266.614420127509|330.7983563255838|                null|1.1256735991443205|5343856.189502763|\n",
      "|    min|               1|                1|'Til There Was Yo...|                 1|        874724710|\n",
      "|    max|             943|             1682|Á köldum klaka (C...|                 5|        893286638|\n",
      "+-------+----------------+-----------------+--------------------+------------------+-----------------+\n",
      "\n"
     ]
    }
   ],
   "source": [
    "dataframe.describe().show()"
   ]
  },
  {
   "cell_type": "code",
   "execution_count": 189,
   "metadata": {},
   "outputs": [],
   "source": [
    "training, test = dataframe.randomSplit([0.8,0.2])"
   ]
  },
  {
   "cell_type": "code",
   "execution_count": 191,
   "metadata": {},
   "outputs": [],
   "source": [
    "als = ALS(maxIter=5, regParam=0.01, userCol='userid', itemCol='movieid', ratingCol='rating')\n",
    "\n",
    "model = als.fit(training)\n",
    "\n",
    "predictions = model.transform(test)"
   ]
  },
  {
   "cell_type": "code",
   "execution_count": 192,
   "metadata": {},
   "outputs": [
    {
     "name": "stdout",
     "output_type": "stream",
     "text": [
      "+-------+-----------------+------------------+--------------------+------------------+-------------------+----------+\n",
      "|summary|           userid|           movieid|          movietitle|            rating|          timestamp|prediction|\n",
      "+-------+-----------------+------------------+--------------------+------------------+-------------------+----------+\n",
      "|  count|            20101|             20101|               20101|             20101|              20101|     20101|\n",
      "|   mean|462.5742500373116|428.08641361126314|                null| 3.515297746380777|8.835338370583055E8|       NaN|\n",
      "| stddev|266.1794384514314| 330.8215446023915|                null|1.1312069445474744|  5337656.962515463|       NaN|\n",
      "|    min|                1|                 1|'Til There Was Yo...|                 1|          874724937| -7.307976|\n",
      "|    max|              943|              1676|Young Poisoner's ...|                 5|          893286638|       NaN|\n",
      "+-------+-----------------+------------------+--------------------+------------------+-------------------+----------+\n",
      "\n"
     ]
    }
   ],
   "source": [
    "predictions.describe().show()"
   ]
  },
  {
   "cell_type": "code",
   "execution_count": 194,
   "metadata": {},
   "outputs": [
    {
     "name": "stdout",
     "output_type": "stream",
     "text": [
      "+-------+-----------------+------------------+--------------------+-----------------+-------------------+------------------+\n",
      "|summary|           userid|           movieid|          movietitle|           rating|          timestamp|        prediction|\n",
      "+-------+-----------------+------------------+--------------------+-----------------+-------------------+------------------+\n",
      "|  count|            20065|             20065|               20065|            20065|              20065|             20065|\n",
      "|   mean|462.5799152753551|426.13650635434834|                null|3.517069524046848|8.835299807362074E8|3.4959238094619063|\n",
      "| stddev|266.2740627633327|  327.849848834244|                null|1.129970935287274|  5337075.121335574|0.9425125063004706|\n",
      "|    min|                1|                 1|'Til There Was Yo...|                1|          874724937|         -7.307976|\n",
      "|    max|              943|              1652|Young Poisoner's ...|                5|          893286638|          8.859144|\n",
      "+-------+-----------------+------------------+--------------------+-----------------+-------------------+------------------+\n",
      "\n"
     ]
    }
   ],
   "source": [
    "predictions = predictions.na.drop()\n",
    "predictions.describe().show()"
   ]
  },
  {
   "cell_type": "code",
   "execution_count": 195,
   "metadata": {},
   "outputs": [
    {
     "name": "stdout",
     "output_type": "stream",
     "text": [
      "Root-mean-square error = 1.06994243562\n"
     ]
    }
   ],
   "source": [
    "evaluator = RegressionEvaluator(metricName=\"rmse\", labelCol=\"rating\",\n",
    "                                predictionCol=\"prediction\")\n",
    "rmse = evaluator.evaluate(predictions)\n",
    "print(\"Root-mean-square error = \" + str(rmse))"
   ]
  },
  {
   "cell_type": "code",
   "execution_count": 196,
   "metadata": {},
   "outputs": [],
   "source": [
    "userRecs = model.recommendForAllUsers(10)\n",
    "# Generate top 10 user recommendations for each movie\n",
    "movieRecs = model.recommendForAllItems(10)"
   ]
  },
  {
   "cell_type": "code",
   "execution_count": 197,
   "metadata": {},
   "outputs": [
    {
     "name": "stdout",
     "output_type": "stream",
     "text": [
      "+------+--------------------+\n",
      "|userid|     recommendations|\n",
      "+------+--------------------+\n",
      "|    26|[[1643, 5.1165543...|\n",
      "|   474|[[1368, 6.7601976...|\n",
      "|    29|[[906, 6.107493],...|\n",
      "+------+--------------------+\n",
      "\n",
      "+-------+--------------------+\n",
      "|movieid|     recommendations|\n",
      "+-------+--------------------+\n",
      "|     26|[[180, 7.069045],...|\n",
      "|    474|[[309, 7.550808],...|\n",
      "|     29|[[127, 5.9479694]...|\n",
      "+-------+--------------------+\n",
      "\n"
     ]
    }
   ],
   "source": [
    "# Generate top 10 movie recommendations for a specified set of users\n",
    "users = dataframe.select(als.getUserCol()).distinct().limit(3)\n",
    "userSubsetRecs = model.recommendForUserSubset(users, 10)\n",
    "    # Generate top 10 user recommendations for a specified set of movies\n",
    "movies = dataframe.select(als.getItemCol()).distinct().limit(3)\n",
    "movieSubSetRecs = model.recommendForItemSubset(movies, 10)\n",
    "   \n",
    "#userRecs.show()\n",
    "#movieRecs.show()\n",
    "userSubsetRecs.show()\n",
    "movieSubSetRecs.show()"
   ]
  },
  {
   "cell_type": "code",
   "execution_count": 198,
   "metadata": {
    "scrolled": true
   },
   "outputs": [
    {
     "name": "stdout",
     "output_type": "stream",
     "text": [
      "root\n",
      " |-- userid: integer (nullable = false)\n",
      " |-- recommendations: array (nullable = true)\n",
      " |    |-- element: struct (containsNull = true)\n",
      " |    |    |-- movieid: integer (nullable = true)\n",
      " |    |    |-- rating: float (nullable = true)\n",
      "\n"
     ]
    }
   ],
   "source": [
    "userSubsetRecs.printSchema()"
   ]
  },
  {
   "cell_type": "code",
   "execution_count": 121,
   "metadata": {},
   "outputs": [],
   "source": [
    "_df = userSubsetRecs\\\n",
    ".select(explode(userSubsetRecs.recommendations.movieid),'userid')\\\n",
    "#.withColumn(\"rating\",explode(userSubsetRecs.recommendations.movieid))\n"
   ]
  },
  {
   "cell_type": "code",
   "execution_count": 127,
   "metadata": {},
   "outputs": [],
   "source": [
    "_df1 = userSubsetRecs\\\n",
    ".withColumn('rating',explode(userSubsetRecs.recommendations.rating))\\\n",
    ".withColumn('movieid',explode(userSubsetRecs.recommendations.movieid))\\\n"
   ]
  },
  {
   "cell_type": "code",
   "execution_count": 135,
   "metadata": {},
   "outputs": [],
   "source": [
    "rd=_df1.drop('recommendations').collect()"
   ]
  },
  {
   "cell_type": "code",
   "execution_count": 146,
   "metadata": {
    "scrolled": false
   },
   "outputs": [],
   "source": [
    "schema = StructType([StructField(\"userId\", StringType(), True), StructField(\"rating\", FloatType(), True), StructField(\"movieid\", StringType(), True)])\n"
   ]
  },
  {
   "cell_type": "code",
   "execution_count": 166,
   "metadata": {},
   "outputs": [],
   "source": [
    "dfToSave = spark.createDataFrame(rd, schema)"
   ]
  },
  {
   "cell_type": "code",
   "execution_count": 199,
   "metadata": {},
   "outputs": [],
   "source": [
    "dataframe.createOrReplaceTempView(\"m\")"
   ]
  },
  {
   "cell_type": "code",
   "execution_count": 171,
   "metadata": {},
   "outputs": [],
   "source": [
    "dfToSave.createOrReplaceTempView(\"re\")"
   ]
  },
  {
   "cell_type": "code",
   "execution_count": 209,
   "metadata": {},
   "outputs": [],
   "source": [
    "sql =spark.sql(\"select  re.userid,m.movietitle  from re join m on re.movieid= m.movieid group by re.userid,m.movietitle order by userid\")"
   ]
  },
  {
   "cell_type": "code",
   "execution_count": 210,
   "metadata": {},
   "outputs": [
    {
     "name": "stdout",
     "output_type": "stream",
     "text": [
      "+------+--------------------+\n",
      "|userid|          movietitle|\n",
      "+------+--------------------+\n",
      "|    26|  Bitter Moon (1992)|\n",
      "|    26|        Faust (1994)|\n",
      "|    26|Slingshot, The (1...|\n",
      "|    26| Pulp Fiction (1994)|\n",
      "|    26|Pather Panchali (...|\n",
      "|    26|When We Were King...|\n",
      "|    26|Mina Tannenbaum (...|\n",
      "|    26|World of Apu, The...|\n",
      "|    26|My Man Godfrey (1...|\n",
      "|    26|    Boys, Les (1997)|\n",
      "|    29|        Laura (1944)|\n",
      "|    29|    Boys, Les (1997)|\n",
      "|    29|Paradise Lost: Th...|\n",
      "|    29|       Priest (1994)|\n",
      "|    29|        Naked (1993)|\n",
      "|    29|Burnt By the Sun ...|\n",
      "|    29|Ma vie en rose (M...|\n",
      "|    29|Umbrellas of Cher...|\n",
      "|    29|       Caught (1996)|\n",
      "|    29|    Ninotchka (1939)|\n",
      "+------+--------------------+\n",
      "only showing top 20 rows\n",
      "\n"
     ]
    }
   ],
   "source": [
    "sql.show()"
   ]
  },
  {
   "cell_type": "code",
   "execution_count": 211,
   "metadata": {},
   "outputs": [],
   "source": [
    "_delimiter=','"
   ]
  },
  {
   "cell_type": "code",
   "execution_count": 212,
   "metadata": {},
   "outputs": [],
   "source": [
    "_output='/home/bella/recommendations'"
   ]
  },
  {
   "cell_type": "code",
   "execution_count": 214,
   "metadata": {},
   "outputs": [],
   "source": [
    "_xy=sql.coalesce(1).write.format('com.databricks.spark.csv').option('header','true').option('delimiter', _delimiter).mode(\"overwrite\").save(_output)"
   ]
  },
  {
   "cell_type": "code",
   "execution_count": null,
   "metadata": {},
   "outputs": [],
   "source": []
  }
 ],
 "metadata": {
  "kernelspec": {
   "display_name": "Python 2",
   "language": "python",
   "name": "python2"
  },
  "language_info": {
   "codemirror_mode": {
    "name": "ipython",
    "version": 2
   },
   "file_extension": ".py",
   "mimetype": "text/x-python",
   "name": "python",
   "nbconvert_exporter": "python",
   "pygments_lexer": "ipython2",
   "version": "2.7.12"
  }
 },
 "nbformat": 4,
 "nbformat_minor": 2
}
