{
 "cells": [
  {
   "cell_type": "code",
   "execution_count": 5,
   "metadata": {},
   "outputs": [],
   "source": [
    "from pyspark.sql import SparkSession\n",
    "spark = SparkSession.builder.appName('recommender').getOrCreate()\n",
    "from pyspark.ml.recommendation import ALS\n",
    "from pyspark.ml.evaluation import RegressionEvaluator\n",
    "import pandas as pd"
   ]
  },
  {
   "cell_type": "code",
   "execution_count": 2,
   "metadata": {},
   "outputs": [],
   "source": [
    "data_cols = ['userid','movieid','rating','timestamp']\n",
    "item_cols = ['movieid','movietitle','release date',\n",
    "'video release date','IMDb URL','unknown','Action',\n",
    "'Adventure','Animation','Childrens','Comedy','Crime',\n",
    "'Documentary','Drama','Fantasy','Film-Noir','Horror',\n",
    "'Musical','Mystery','Romance ','Sci-Fi','Thriller',\n",
    "'War' ,'Western']\n",
    "user_cols = ['userid','age','gender','occupation',\n",
    "'zip code']"
   ]
  },
  {
   "cell_type": "code",
   "execution_count": 6,
   "metadata": {},
   "outputs": [],
   "source": [
    "users = pd.read_csv('/home/bella/ml-100k/u.user', sep='|',\n",
    "names=user_cols, encoding='latin-1')"
   ]
  },
  {
   "cell_type": "code",
   "execution_count": 7,
   "metadata": {},
   "outputs": [],
   "source": [
    "item = pd.read_csv('/home/bella/ml-100k/u.item', sep='|',\n",
    "names=item_cols, encoding='latin-1')\n",
    "data = pd.read_csv('/home/bella/ml-100k/u.data', sep='\\t',\n",
    "names=data_cols, encoding='latin-1')"
   ]
  },
  {
   "cell_type": "code",
   "execution_count": 11,
   "metadata": {},
   "outputs": [],
   "source": [
    "dataset = pd.merge(pd.merge(item, data),users)\n",
    "df = dataset[['userid','movieid','rating','timestamp']]\n",
    "dataframe =spark.createDataFrame(df)\n",
    "#ratings = dataframe.rdd\n"
   ]
  },
  {
   "cell_type": "code",
   "execution_count": 14,
   "metadata": {},
   "outputs": [
    {
     "name": "stdout",
     "output_type": "stream",
     "text": [
      "root\n",
      " |-- userid: long (nullable = true)\n",
      " |-- movieid: long (nullable = true)\n",
      " |-- rating: long (nullable = true)\n",
      " |-- timestamp: long (nullable = true)\n",
      "\n"
     ]
    }
   ],
   "source": [
    "dataframe.printSchema()"
   ]
  },
  {
   "cell_type": "code",
   "execution_count": 15,
   "metadata": {},
   "outputs": [
    {
     "name": "stdout",
     "output_type": "stream",
     "text": [
      "+------+-------+------+---------+\n",
      "|userid|movieid|rating|timestamp|\n",
      "+------+-------+------+---------+\n",
      "|   308|      1|     4|887736532|\n",
      "|   308|      4|     5|887737890|\n",
      "|   308|      5|     4|887739608|\n",
      "|   308|      7|     4|887738847|\n",
      "|   308|      8|     5|887736696|\n",
      "|   308|      9|     4|887737194|\n",
      "|   308|     11|     5|887737837|\n",
      "|   308|     12|     5|887737243|\n",
      "|   308|     15|     3|887739426|\n",
      "|   308|     17|     4|887739056|\n",
      "|   308|     19|     3|887737383|\n",
      "|   308|     21|     3|887740729|\n",
      "|   308|     22|     4|887737647|\n",
      "|   308|     23|     5|887737293|\n",
      "|   308|     24|     4|887738057|\n",
      "|   308|     25|     4|887740649|\n",
      "|   308|     28|     3|887737036|\n",
      "|   308|     30|     4|887738933|\n",
      "|   308|     31|     3|887739472|\n",
      "|   308|     32|     5|887737432|\n",
      "+------+-------+------+---------+\n",
      "only showing top 20 rows\n",
      "\n"
     ]
    }
   ],
   "source": [
    "dataframe.show()"
   ]
  },
  {
   "cell_type": "code",
   "execution_count": 17,
   "metadata": {},
   "outputs": [
    {
     "name": "stdout",
     "output_type": "stream",
     "text": [
      "+-------+----------------+-----------------+------------------+-----------------+\n",
      "|summary|          userid|          movieid|            rating|        timestamp|\n",
      "+-------+----------------+-----------------+------------------+-----------------+\n",
      "|  count|          100000|           100000|            100000|           100000|\n",
      "|   mean|       462.48475|        425.53013|           3.52986|8.8352885148862E8|\n",
      "| stddev|266.614420127509|330.7983563255838|1.1256735991443205|5343856.189502763|\n",
      "|    min|               1|                1|                 1|        874724710|\n",
      "|    max|             943|             1682|                 5|        893286638|\n",
      "+-------+----------------+-----------------+------------------+-----------------+\n",
      "\n"
     ]
    }
   ],
   "source": [
    "dataframe.describe().show()"
   ]
  },
  {
   "cell_type": "code",
   "execution_count": 19,
   "metadata": {},
   "outputs": [],
   "source": [
    "training, test = dataframe.randomSplit([0.8,0.2])"
   ]
  },
  {
   "cell_type": "code",
   "execution_count": 21,
   "metadata": {},
   "outputs": [],
   "source": [
    "als = ALS(maxIter=5, regParam=0.01, userCol='userid', itemCol='movieid', ratingCol='rating')\n",
    "\n",
    "model = als.fit(training)\n",
    "\n",
    "predictions = model.transform(test)"
   ]
  },
  {
   "cell_type": "code",
   "execution_count": 22,
   "metadata": {},
   "outputs": [
    {
     "name": "stdout",
     "output_type": "stream",
     "text": [
      "+-------+------------------+-----------------+------------------+-------------------+----------+\n",
      "|summary|            userid|          movieid|            rating|          timestamp|prediction|\n",
      "+-------+------------------+-----------------+------------------+-------------------+----------+\n",
      "|  count|             20011|            20011|             20011|              20011|     20011|\n",
      "|   mean|460.72769976512916|425.5467992604068|3.5167158063065314|8.835421477338464E8|       NaN|\n",
      "| stddev|266.87561590489815| 330.979649347182|1.1328796140938848|   5342409.57114664|       NaN|\n",
      "|    min|                 1|                1|                 1|          874728396| -6.011937|\n",
      "|    max|               943|             1678|                 5|          893286638|       NaN|\n",
      "+-------+------------------+-----------------+------------------+-------------------+----------+\n",
      "\n"
     ]
    }
   ],
   "source": [
    "predictions.describe().show()"
   ]
  },
  {
   "cell_type": "code",
   "execution_count": 23,
   "metadata": {},
   "outputs": [
    {
     "name": "stdout",
     "output_type": "stream",
     "text": [
      "+-------+------------------+------------------+------------------+-------------------+------------------+\n",
      "|summary|            userid|           movieid|            rating|          timestamp|        prediction|\n",
      "+-------+------------------+------------------+------------------+-------------------+------------------+\n",
      "|  count|             19970|             19970|             19970|              19970|             19970|\n",
      "|   mean|460.70265398097143|423.44591887831746|3.5185277916875313|8.835357784156234E8|  3.50928863528006|\n",
      "| stddev| 266.9115251341792| 327.8187458891906|1.1319754223510472|  5341020.139388894|0.9481777149212037|\n",
      "|    min|                 1|                 1|                 1|          874728396|         -6.011937|\n",
      "|    max|               943|              1658|                 5|          893286638|          8.301017|\n",
      "+-------+------------------+------------------+------------------+-------------------+------------------+\n",
      "\n"
     ]
    }
   ],
   "source": [
    "predictions = predictions.na.drop()\n",
    "predictions.describe().show()"
   ]
  },
  {
   "cell_type": "code",
   "execution_count": 24,
   "metadata": {},
   "outputs": [
    {
     "name": "stdout",
     "output_type": "stream",
     "text": [
      "Root-mean-square error = 1.07282610421\n"
     ]
    }
   ],
   "source": [
    "evaluator = RegressionEvaluator(metricName=\"rmse\", labelCol=\"rating\",\n",
    "                                predictionCol=\"prediction\")\n",
    "rmse = evaluator.evaluate(predictions)\n",
    "print(\"Root-mean-square error = \" + str(rmse))"
   ]
  },
  {
   "cell_type": "code",
   "execution_count": 25,
   "metadata": {},
   "outputs": [],
   "source": [
    "userRecs = model.recommendForAllUsers(10)\n",
    "# Generate top 10 user recommendations for each movie\n",
    "movieRecs = model.recommendForAllItems(10)"
   ]
  },
  {
   "cell_type": "code",
   "execution_count": 32,
   "metadata": {},
   "outputs": [
    {
     "name": "stdout",
     "output_type": "stream",
     "text": [
      "+------+--------------------+\n",
      "|userid|     recommendations|\n",
      "+------+--------------------+\n",
      "|    26|[[1512, 5.1629896...|\n",
      "|   474|[[557, 6.125899],...|\n",
      "|    29|[[904, 6.043762],...|\n",
      "+------+--------------------+\n",
      "\n",
      "+-------+--------------------+\n",
      "|movieid|     recommendations|\n",
      "+-------+--------------------+\n",
      "|     26|[[434, 7.8860817]...|\n",
      "|    474|[[842, 7.1664853]...|\n",
      "|     29|[[914, 5.6008306]...|\n",
      "+-------+--------------------+\n",
      "\n"
     ]
    }
   ],
   "source": [
    "# Generate top 10 movie recommendations for a specified set of users\n",
    "users = dataframe.select(als.getUserCol()).distinct().limit(3)\n",
    "userSubsetRecs = model.recommendForUserSubset(users, 10)\n",
    "    # Generate top 10 user recommendations for a specified set of movies\n",
    "movies = dataframe.select(als.getItemCol()).distinct().limit(3)\n",
    "movieSubSetRecs = model.recommendForItemSubset(movies, 10)\n",
    "   \n",
    "#userRecs.show()\n",
    "#movieRecs.show()\n",
    "userSubsetRecs.show()\n",
    "movieSubSetRecs.show()"
   ]
  },
  {
   "cell_type": "code",
   "execution_count": 33,
   "metadata": {},
   "outputs": [
    {
     "name": "stdout",
     "output_type": "stream",
     "text": [
      "root\n",
      " |-- userid: integer (nullable = false)\n",
      " |-- recommendations: array (nullable = true)\n",
      " |    |-- element: struct (containsNull = true)\n",
      " |    |    |-- movieid: integer (nullable = true)\n",
      " |    |    |-- rating: float (nullable = true)\n",
      "\n"
     ]
    }
   ],
   "source": [
    "userSubsetRecs.printSchema()"
   ]
  },
  {
   "cell_type": "code",
   "execution_count": null,
   "metadata": {},
   "outputs": [],
   "source": []
  }
 ],
 "metadata": {
  "kernelspec": {
   "display_name": "Python 2",
   "language": "python",
   "name": "python2"
  },
  "language_info": {
   "codemirror_mode": {
    "name": "ipython",
    "version": 2
   },
   "file_extension": ".py",
   "mimetype": "text/x-python",
   "name": "python",
   "nbconvert_exporter": "python",
   "pygments_lexer": "ipython2",
   "version": "2.7.12"
  }
 },
 "nbformat": 4,
 "nbformat_minor": 2
}
